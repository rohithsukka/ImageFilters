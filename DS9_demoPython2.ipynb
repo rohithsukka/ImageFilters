{
  "nbformat": 4,
  "nbformat_minor": 0,
  "metadata": {
    "colab": {
      "provenance": [],
      "include_colab_link": true
    },
    "kernelspec": {
      "name": "python3",
      "display_name": "Python 3"
    },
    "language_info": {
      "name": "python"
    }
  },
  "cells": [
    {
      "cell_type": "markdown",
      "metadata": {
        "id": "view-in-github",
        "colab_type": "text"
      },
      "source": [
        "<a href=\"https://colab.research.google.com/github/rohithsukka/ImageFilters/blob/main/DS9_demoPython2.ipynb\" target=\"_parent\"><img src=\"https://colab.research.google.com/assets/colab-badge.svg\" alt=\"Open In Colab\"/></a>"
      ]
    },
    {
      "cell_type": "code",
      "source": [
        "print(\"Hello World\")"
      ],
      "metadata": {
        "colab": {
          "base_uri": "https://localhost:8080/"
        },
        "id": "NK-Ex6xQJTV9",
        "outputId": "34447b69-25a2-4631-b2ea-8bec6447c34f"
      },
      "execution_count": null,
      "outputs": [
        {
          "output_type": "stream",
          "name": "stdout",
          "text": [
            "Hello World\n"
          ]
        }
      ]
    },
    {
      "cell_type": "markdown",
      "source": [
        "**Variables & Values**\n",
        "  * helps in reusebility"
      ],
      "metadata": {
        "id": "ur6oMzvJJP1L"
      }
    },
    {
      "cell_type": "code",
      "execution_count": null,
      "metadata": {
        "colab": {
          "base_uri": "https://localhost:8080/"
        },
        "id": "ETyGpKQeIzyF",
        "outputId": "1ac4513a-ef79-4a8f-ceb5-a6514fe11820"
      },
      "outputs": [
        {
          "output_type": "stream",
          "name": "stdout",
          "text": [
            "14\n",
            "17\n"
          ]
        }
      ],
      "source": [
        "a = 7\n",
        "\n",
        "print(a * 2)\n",
        "print(a + 10)"
      ]
    },
    {
      "cell_type": "code",
      "source": [
        "name = \"Bipul\"\n",
        "\n",
        "print(name)\n",
        "print(\"Hello\", name)"
      ],
      "metadata": {
        "colab": {
          "base_uri": "https://localhost:8080/"
        },
        "id": "MSuIetuPJiCt",
        "outputId": "cd721ab3-f5a2-4d64-bde9-5b6b20ab1231"
      },
      "execution_count": null,
      "outputs": [
        {
          "output_type": "stream",
          "name": "stdout",
          "text": [
            "Bipul\n",
            "Hello Bipul\n"
          ]
        }
      ]
    },
    {
      "cell_type": "code",
      "source": [
        "name = \"Ajay\"\n",
        "age = 24\n",
        "location = \"Mumbai\"\n",
        "\n",
        "print(name)\n",
        "print(age)\n",
        "print(location)"
      ],
      "metadata": {
        "colab": {
          "base_uri": "https://localhost:8080/"
        },
        "id": "4rpgRb_CKAc5",
        "outputId": "f222a6da-bed3-4145-ef7a-a49101835481"
      },
      "execution_count": null,
      "outputs": [
        {
          "output_type": "stream",
          "name": "stdout",
          "text": [
            "Ajay\n",
            "24\n",
            "Mumbai\n"
          ]
        }
      ]
    },
    {
      "cell_type": "code",
      "source": [
        "name,age,location = \"Anil\" , 33 , \"Delhi\"\n",
        "\n",
        "print(name)\n",
        "print(age)\n",
        "print(location)"
      ],
      "metadata": {
        "colab": {
          "base_uri": "https://localhost:8080/"
        },
        "id": "2O7Q3VtMJxBO",
        "outputId": "5ec796d9-7783-44db-e480-bd212d22b5b4"
      },
      "execution_count": null,
      "outputs": [
        {
          "output_type": "stream",
          "name": "stdout",
          "text": [
            "Anil\n",
            "33\n",
            "Delhi\n"
          ]
        }
      ]
    },
    {
      "cell_type": "code",
      "source": [
        "x = y = z = 65\n",
        "print(x , x * 2)\n",
        "print(y , y / 2)\n",
        "print(z , z + 2)"
      ],
      "metadata": {
        "colab": {
          "base_uri": "https://localhost:8080/"
        },
        "id": "npvWZYPnKVCa",
        "outputId": "0b8f48fe-fb2e-4461-f2cf-d945b3290ab9"
      },
      "execution_count": null,
      "outputs": [
        {
          "output_type": "stream",
          "name": "stdout",
          "text": [
            "65 130\n",
            "65 32.5\n",
            "65 67\n"
          ]
        }
      ]
    },
    {
      "cell_type": "markdown",
      "source": [
        "****\n",
        "**Data Types**\n",
        "  * Numerical\n",
        "    * int\n",
        "    * float\n",
        "  * Non-Numerical\n",
        "    * string\n",
        "  * Sequential\n",
        "    * list\n",
        "    * tuple\n",
        "  * boolean\n",
        "    * bool\n",
        "  * dictionary\n",
        "  * set"
      ],
      "metadata": {
        "id": "gmnF8rHqLbnF"
      }
    },
    {
      "cell_type": "code",
      "source": [
        "age = 21\n",
        "print(age)\n",
        "print(type(age))"
      ],
      "metadata": {
        "colab": {
          "base_uri": "https://localhost:8080/"
        },
        "id": "qzCrsaCmKbbW",
        "outputId": "9558a073-0a00-4623-db5f-1ba5cb8a5e5a"
      },
      "execution_count": null,
      "outputs": [
        {
          "output_type": "stream",
          "name": "stdout",
          "text": [
            "21\n",
            "<class 'int'>\n"
          ]
        }
      ]
    },
    {
      "cell_type": "code",
      "source": [
        "weight = 43.7\n",
        "print(weight)\n",
        "print(type(weight))"
      ],
      "metadata": {
        "colab": {
          "base_uri": "https://localhost:8080/"
        },
        "id": "oy--N-fpL0Ig",
        "outputId": "052b9f5b-8aaf-49b4-c9d3-a26ca116efad"
      },
      "execution_count": null,
      "outputs": [
        {
          "output_type": "stream",
          "name": "stdout",
          "text": [
            "43.7\n",
            "<class 'float'>\n"
          ]
        }
      ]
    },
    {
      "cell_type": "code",
      "source": [
        "name = \"Atul\"\n",
        "print(name)\n",
        "print(type(name))"
      ],
      "metadata": {
        "colab": {
          "base_uri": "https://localhost:8080/"
        },
        "id": "9XXNVfW4L66P",
        "outputId": "0f7f04c8-9402-4078-8f24-df98eda58326"
      },
      "execution_count": null,
      "outputs": [
        {
          "output_type": "stream",
          "name": "stdout",
          "text": [
            "Atul\n",
            "<class 'str'>\n"
          ]
        }
      ]
    },
    {
      "cell_type": "code",
      "source": [
        "text = \"Python Programming is fun\"\n",
        "print(text)"
      ],
      "metadata": {
        "colab": {
          "base_uri": "https://localhost:8080/"
        },
        "id": "-Bd1EiBbMFST",
        "outputId": "a7fb9cd4-8ed9-4d70-8ef7-d833f606c438"
      },
      "execution_count": null,
      "outputs": [
        {
          "output_type": "stream",
          "name": "stdout",
          "text": [
            "Python Programming is fun\n"
          ]
        }
      ]
    },
    {
      "cell_type": "code",
      "source": [
        "#text slicing\n",
        "print(text[0:6])"
      ],
      "metadata": {
        "colab": {
          "base_uri": "https://localhost:8080/"
        },
        "id": "_xuYWL-SMmBt",
        "outputId": "325b1b55-a78b-4fac-bb22-80710c4cb3cd"
      },
      "execution_count": null,
      "outputs": [
        {
          "output_type": "stream",
          "name": "stdout",
          "text": [
            "Python\n"
          ]
        }
      ]
    },
    {
      "cell_type": "code",
      "source": [
        "#text slicing\n",
        "print(text[7:12])"
      ],
      "metadata": {
        "colab": {
          "base_uri": "https://localhost:8080/"
        },
        "id": "Vmo3IYvnMpgV",
        "outputId": "582f1ff1-5cc8-4121-83af-45934ce8b74e"
      },
      "execution_count": null,
      "outputs": [
        {
          "output_type": "stream",
          "name": "stdout",
          "text": [
            "Progr\n"
          ]
        }
      ]
    },
    {
      "cell_type": "code",
      "source": [
        "print(len(text))"
      ],
      "metadata": {
        "colab": {
          "base_uri": "https://localhost:8080/"
        },
        "id": "b2JCw9MvMyqJ",
        "outputId": "15499bba-4a0e-401c-ea0e-8e348baf2ca0"
      },
      "execution_count": null,
      "outputs": [
        {
          "output_type": "stream",
          "name": "stdout",
          "text": [
            "25\n"
          ]
        }
      ]
    },
    {
      "cell_type": "markdown",
      "source": [
        "* **list** - mutable data type"
      ],
      "metadata": {
        "id": "tpXy6h_YO_nM"
      }
    },
    {
      "cell_type": "code",
      "source": [
        "ages = [34,32,35,29,27,37,39,40]\n",
        "print(ages)\n",
        "print(type(ages))"
      ],
      "metadata": {
        "colab": {
          "base_uri": "https://localhost:8080/"
        },
        "id": "Oj63rqVDM3am",
        "outputId": "d5e9137d-f750-41e3-d723-001fa7179bfe"
      },
      "execution_count": null,
      "outputs": [
        {
          "output_type": "stream",
          "name": "stdout",
          "text": [
            "[34, 32, 35, 29, 27, 37, 39, 40]\n",
            "<class 'list'>\n"
          ]
        }
      ]
    },
    {
      "cell_type": "code",
      "source": [
        "print(ages[0])\n",
        "print(ages[3])"
      ],
      "metadata": {
        "colab": {
          "base_uri": "https://localhost:8080/"
        },
        "id": "g53H-Uq0NI2s",
        "outputId": "74c5e5db-62a0-4d30-95e1-d20197fa534a"
      },
      "execution_count": null,
      "outputs": [
        {
          "output_type": "stream",
          "name": "stdout",
          "text": [
            "34\n",
            "29\n"
          ]
        }
      ]
    },
    {
      "cell_type": "code",
      "source": [
        "print(len(ages))"
      ],
      "metadata": {
        "colab": {
          "base_uri": "https://localhost:8080/"
        },
        "id": "c_tqmfN1Na6P",
        "outputId": "c9f8f129-ecec-4b41-f1f3-394d87d3cd5a"
      },
      "execution_count": null,
      "outputs": [
        {
          "output_type": "stream",
          "name": "stdout",
          "text": [
            "8\n"
          ]
        }
      ]
    },
    {
      "cell_type": "code",
      "source": [
        "#list slicing       #list_variable[initial_index : initial_index + number of values]\n",
        "print(ages[2:6])"
      ],
      "metadata": {
        "colab": {
          "base_uri": "https://localhost:8080/"
        },
        "id": "zcese0hSNgFW",
        "outputId": "3d5d50f2-387b-4384-c1b2-e5c09558a079"
      },
      "execution_count": null,
      "outputs": [
        {
          "output_type": "stream",
          "name": "stdout",
          "text": [
            "[35, 29, 27, 37]\n"
          ]
        }
      ]
    },
    {
      "cell_type": "code",
      "source": [
        "print(ages)\n",
        "\n",
        "ages[2] = 65\n",
        "\n",
        "print(ages)"
      ],
      "metadata": {
        "colab": {
          "base_uri": "https://localhost:8080/"
        },
        "id": "PBS-rOL-Nk6E",
        "outputId": "11de7151-dd13-4833-e634-1326f85d300f"
      },
      "execution_count": null,
      "outputs": [
        {
          "output_type": "stream",
          "name": "stdout",
          "text": [
            "[34, 32, 35, 29, 27, 37, 39, 40]\n",
            "[34, 32, 65, 29, 27, 37, 39, 40]\n"
          ]
        }
      ]
    },
    {
      "cell_type": "code",
      "source": [
        "#adding a new entity - append()\n",
        "\n",
        "ages.append(64)\n",
        "print(ages)"
      ],
      "metadata": {
        "colab": {
          "base_uri": "https://localhost:8080/"
        },
        "id": "OekfgytWPJDj",
        "outputId": "1ea00d18-62eb-4e29-acac-fc00304ffafd"
      },
      "execution_count": null,
      "outputs": [
        {
          "output_type": "stream",
          "name": "stdout",
          "text": [
            "[34, 32, 65, 29, 27, 37, 39, 40, 64]\n"
          ]
        }
      ]
    },
    {
      "cell_type": "code",
      "source": [
        "#adding a new entity at a defined index - insert()\n",
        "\n",
        "ages.insert(3,70)\n",
        "print(ages)"
      ],
      "metadata": {
        "colab": {
          "base_uri": "https://localhost:8080/"
        },
        "id": "E86gGAx2O3l3",
        "outputId": "cba517a8-98d3-45b8-92a5-bb6cb062af6d"
      },
      "execution_count": null,
      "outputs": [
        {
          "output_type": "stream",
          "name": "stdout",
          "text": [
            "[34, 32, 65, 70, 29, 27, 37, 39, 40, 64]\n"
          ]
        }
      ]
    },
    {
      "cell_type": "code",
      "source": [
        "#remove a entity from a list - remove()\n",
        "ages.remove(29)\n",
        "print(ages)"
      ],
      "metadata": {
        "colab": {
          "base_uri": "https://localhost:8080/"
        },
        "id": "IXbWGVozPrni",
        "outputId": "d2c544bb-ef43-4c6e-cf71-438a8c416361"
      },
      "execution_count": null,
      "outputs": [
        {
          "output_type": "stream",
          "name": "stdout",
          "text": [
            "[34, 32, 65, 70, 27, 37, 39, 40, 64]\n"
          ]
        }
      ]
    },
    {
      "cell_type": "code",
      "source": [
        "#remove an entity using index value - pop(index)\n",
        "\n",
        "ages.pop(5)\n",
        "print(ages)"
      ],
      "metadata": {
        "colab": {
          "base_uri": "https://localhost:8080/"
        },
        "id": "rifukFl4QGMs",
        "outputId": "44cb43db-0319-408a-9bb0-a880d8ac39c6"
      },
      "execution_count": null,
      "outputs": [
        {
          "output_type": "stream",
          "name": "stdout",
          "text": [
            "[34, 32, 65, 70, 27, 39, 40, 64]\n"
          ]
        }
      ]
    },
    {
      "cell_type": "code",
      "source": [
        "#to know index of certain entity - index()\n",
        "\n",
        "print(ages.index(70))"
      ],
      "metadata": {
        "colab": {
          "base_uri": "https://localhost:8080/"
        },
        "id": "wG-ak2L2Qevj",
        "outputId": "466988b8-b54c-49d4-bd20-e7c119e3ca8a"
      },
      "execution_count": null,
      "outputs": [
        {
          "output_type": "stream",
          "name": "stdout",
          "text": [
            "3\n"
          ]
        }
      ]
    },
    {
      "cell_type": "code",
      "source": [
        "print(ages)"
      ],
      "metadata": {
        "colab": {
          "base_uri": "https://localhost:8080/"
        },
        "id": "Bw1UlVUNQmiX",
        "outputId": "18440e81-bb13-4903-cce3-9b30982b5d89"
      },
      "execution_count": null,
      "outputs": [
        {
          "output_type": "stream",
          "name": "stdout",
          "text": [
            "[34, 32, 65, 70, 27, 39, 40, 64]\n"
          ]
        }
      ]
    },
    {
      "cell_type": "code",
      "source": [
        "#adding a new entity at 1st position\n",
        "ages.insert(0 , 12)\n",
        "print(ages)"
      ],
      "metadata": {
        "colab": {
          "base_uri": "https://localhost:8080/"
        },
        "id": "4OE1CEF3Q1yP",
        "outputId": "8a04d39e-80fe-45d5-e38f-47d4a8c47a4e"
      },
      "execution_count": null,
      "outputs": [
        {
          "output_type": "stream",
          "name": "stdout",
          "text": [
            "[12, 34, 32, 65, 70, 27, 39, 40, 64]\n"
          ]
        }
      ]
    },
    {
      "cell_type": "markdown",
      "source": [
        "* append v/s extend"
      ],
      "metadata": {
        "id": "gUcmTXWXSoze"
      }
    },
    {
      "cell_type": "code",
      "source": [
        "ages = [34,32,35,29,27,37,39,40]\n",
        "new_ages = [5,4,7,9,3,6]\n",
        "\n",
        "ages.append(new_ages)\n",
        "\n",
        "print(ages)"
      ],
      "metadata": {
        "colab": {
          "base_uri": "https://localhost:8080/"
        },
        "id": "TsZpb68RQ9ZE",
        "outputId": "aae38196-d84f-4652-87ae-d0ae5cb49f9a"
      },
      "execution_count": null,
      "outputs": [
        {
          "output_type": "stream",
          "name": "stdout",
          "text": [
            "[34, 32, 35, 29, 27, 37, 39, 40, [5, 4, 7, 9, 3, 6]]\n"
          ]
        }
      ]
    },
    {
      "cell_type": "code",
      "source": [
        "print(ages[8])"
      ],
      "metadata": {
        "colab": {
          "base_uri": "https://localhost:8080/"
        },
        "id": "7vZuoKGUSEZz",
        "outputId": "19a7ccdb-e458-427d-8d6d-7b2b4a86ebbf"
      },
      "execution_count": null,
      "outputs": [
        {
          "output_type": "stream",
          "name": "stdout",
          "text": [
            "[5, 4, 7, 9, 3, 6]\n"
          ]
        }
      ]
    },
    {
      "cell_type": "code",
      "source": [
        "ages = [34,32,35,29,27,37,39,40]\n",
        "new_ages = [5,4,7,9,3,6]\n",
        "\n",
        "ages.extend(new_ages)\n",
        "print(ages)"
      ],
      "metadata": {
        "colab": {
          "base_uri": "https://localhost:8080/"
        },
        "id": "4C9ueXZeRnus",
        "outputId": "3016ee69-ea98-4e09-8d1c-c778ec1f0563"
      },
      "execution_count": null,
      "outputs": [
        {
          "output_type": "stream",
          "name": "stdout",
          "text": [
            "[34, 32, 35, 29, 27, 37, 39, 40, 5, 4, 7, 9, 3, 6]\n"
          ]
        }
      ]
    },
    {
      "cell_type": "code",
      "source": [
        "print(ages[8])"
      ],
      "metadata": {
        "colab": {
          "base_uri": "https://localhost:8080/"
        },
        "id": "02s10xoMRxnY",
        "outputId": "3c3bbffe-a611-4f3a-e534-7f2eb74724f9"
      },
      "execution_count": null,
      "outputs": [
        {
          "output_type": "stream",
          "name": "stdout",
          "text": [
            "5\n"
          ]
        }
      ]
    },
    {
      "cell_type": "code",
      "source": [
        "#nested list\n",
        "a = [34, 32, 35, 29, 27, 37, 39, 40, [5, 4, 7, 9, 3, 6]]\n",
        "\n",
        "print(a[8][3])"
      ],
      "metadata": {
        "colab": {
          "base_uri": "https://localhost:8080/"
        },
        "id": "lH6g4BsISRnI",
        "outputId": "69f15349-31b6-46ed-9fed-c65e01bae3a1"
      },
      "execution_count": null,
      "outputs": [
        {
          "output_type": "stream",
          "name": "stdout",
          "text": [
            "9\n"
          ]
        }
      ]
    },
    {
      "cell_type": "markdown",
      "source": [
        "* Tuple\n",
        "  * tuples are immutable"
      ],
      "metadata": {
        "id": "pSPBY5e_Trx3"
      }
    },
    {
      "cell_type": "code",
      "source": [
        "emps = (\"John\" , \"Joy\" , \"Ajay\" , \"Vijay\" , \"Suresh\")\n",
        "print(emps)\n",
        "print(type(emps))"
      ],
      "metadata": {
        "colab": {
          "base_uri": "https://localhost:8080/"
        },
        "id": "RhgJiEpsTRVV",
        "outputId": "2b28586a-b384-456b-bae1-9e66f1c2f427"
      },
      "execution_count": null,
      "outputs": [
        {
          "output_type": "stream",
          "name": "stdout",
          "text": [
            "('John', 'Joy', 'Ajay', 'Vijay', 'Suresh')\n",
            "<class 'tuple'>\n"
          ]
        }
      ]
    },
    {
      "cell_type": "code",
      "source": [
        "emps[2] = \"Sanjay\""
      ],
      "metadata": {
        "colab": {
          "base_uri": "https://localhost:8080/",
          "height": 149
        },
        "id": "mKPlI5YWT5de",
        "outputId": "eef899b0-28b1-4cba-eca3-1e8f8a99eb48"
      },
      "execution_count": null,
      "outputs": [
        {
          "output_type": "error",
          "ename": "TypeError",
          "evalue": "'tuple' object does not support item assignment",
          "traceback": [
            "\u001b[0;31m---------------------------------------------------------------------------\u001b[0m",
            "\u001b[0;31mTypeError\u001b[0m                                 Traceback (most recent call last)",
            "\u001b[0;32m<ipython-input-50-c8ed3564ad1c>\u001b[0m in \u001b[0;36m<cell line: 1>\u001b[0;34m()\u001b[0m\n\u001b[0;32m----> 1\u001b[0;31m \u001b[0memps\u001b[0m\u001b[0;34m[\u001b[0m\u001b[0;36m2\u001b[0m\u001b[0;34m]\u001b[0m \u001b[0;34m=\u001b[0m \u001b[0;34m\"Sanjay\"\u001b[0m\u001b[0;34m\u001b[0m\u001b[0;34m\u001b[0m\u001b[0m\n\u001b[0m",
            "\u001b[0;31mTypeError\u001b[0m: 'tuple' object does not support item assignment"
          ]
        }
      ]
    },
    {
      "cell_type": "code",
      "source": [
        "print(len(emps))"
      ],
      "metadata": {
        "colab": {
          "base_uri": "https://localhost:8080/"
        },
        "id": "R7revrkwUE-4",
        "outputId": "777c4141-5068-47f2-a9d1-a9f7062e9915"
      },
      "execution_count": null,
      "outputs": [
        {
          "output_type": "stream",
          "name": "stdout",
          "text": [
            "5\n"
          ]
        }
      ]
    },
    {
      "cell_type": "code",
      "source": [
        "#slicing\n",
        "print(emps[1:3])"
      ],
      "metadata": {
        "colab": {
          "base_uri": "https://localhost:8080/"
        },
        "id": "4kNHnFMOUMg1",
        "outputId": "5118f384-39e0-4e1b-cc56-489b80e0be94"
      },
      "execution_count": null,
      "outputs": [
        {
          "output_type": "stream",
          "name": "stdout",
          "text": [
            "('Joy', 'Ajay')\n"
          ]
        }
      ]
    },
    {
      "cell_type": "markdown",
      "source": [
        "* boolean"
      ],
      "metadata": {
        "id": "55ugtmWRU7ib"
      }
    },
    {
      "cell_type": "code",
      "source": [
        "status = True\n",
        "print(status)\n",
        "print(type(status))"
      ],
      "metadata": {
        "colab": {
          "base_uri": "https://localhost:8080/"
        },
        "id": "UeYqd1xqUOC6",
        "outputId": "cfb2b720-d077-4274-fd75-dc4ae0197f8c"
      },
      "execution_count": null,
      "outputs": [
        {
          "output_type": "stream",
          "name": "stdout",
          "text": [
            "True\n",
            "<class 'bool'>\n"
          ]
        }
      ]
    },
    {
      "cell_type": "code",
      "source": [
        "status = False\n",
        "print(status)\n",
        "print(type(status))"
      ],
      "metadata": {
        "colab": {
          "base_uri": "https://localhost:8080/"
        },
        "id": "-n_CpIhyVFL8",
        "outputId": "197cbbe0-c8c8-4d94-c4e3-2e1974ae0fb9"
      },
      "execution_count": null,
      "outputs": [
        {
          "output_type": "stream",
          "name": "stdout",
          "text": [
            "False\n",
            "<class 'bool'>\n"
          ]
        }
      ]
    },
    {
      "cell_type": "markdown",
      "source": [
        "* dictionary\n",
        "  * key - value pair"
      ],
      "metadata": {
        "id": "_I_mUNusVfrL"
      }
    },
    {
      "cell_type": "code",
      "source": [
        "employee_details = {\"Name\" : \"Suresh\" , \"Age\" : 33 , \"Department\" : \"IT\"}\n",
        "\n",
        "print(employee_details)\n",
        "print(type(employee_details))"
      ],
      "metadata": {
        "colab": {
          "base_uri": "https://localhost:8080/"
        },
        "id": "jbvmL0OiVJuX",
        "outputId": "31ebaca5-427e-4bc4-9b7e-d7c21d7b384d"
      },
      "execution_count": null,
      "outputs": [
        {
          "output_type": "stream",
          "name": "stdout",
          "text": [
            "{'Name': 'Suresh', 'Age': 33, 'Department': 'IT'}\n",
            "<class 'dict'>\n"
          ]
        }
      ]
    },
    {
      "cell_type": "code",
      "source": [
        "print(employee_details[\"Name\"])\n",
        "print(employee_details[\"Age\"])"
      ],
      "metadata": {
        "colab": {
          "base_uri": "https://localhost:8080/"
        },
        "id": "WfQI2WDPVtwm",
        "outputId": "4ad41b01-0b51-4129-8560-ae22440abf9c"
      },
      "execution_count": null,
      "outputs": [
        {
          "output_type": "stream",
          "name": "stdout",
          "text": [
            "Suresh\n",
            "33\n"
          ]
        }
      ]
    },
    {
      "cell_type": "code",
      "source": [
        "print(employee_details.keys())\n",
        "print(employee_details.values())"
      ],
      "metadata": {
        "colab": {
          "base_uri": "https://localhost:8080/"
        },
        "id": "ULls0vUsV_mx",
        "outputId": "94e5aa2f-132e-4f88-f466-9efa5f783e54"
      },
      "execution_count": null,
      "outputs": [
        {
          "output_type": "stream",
          "name": "stdout",
          "text": [
            "dict_keys(['Name', 'Age', 'Department'])\n",
            "dict_values(['Suresh', 33, 'IT'])\n"
          ]
        }
      ]
    },
    {
      "cell_type": "code",
      "source": [
        "employee_details['email'] = \"suresh@abc.com\"\n",
        "print(employee_details)"
      ],
      "metadata": {
        "colab": {
          "base_uri": "https://localhost:8080/"
        },
        "id": "cPOb3qWgV0Du",
        "outputId": "5cd35dfb-2457-4add-ffff-26470018d2b6"
      },
      "execution_count": null,
      "outputs": [
        {
          "output_type": "stream",
          "name": "stdout",
          "text": [
            "{'Name': 'Suresh', 'Age': 33, 'Department': 'IT', 'email': 'suresh@abc.com'}\n"
          ]
        }
      ]
    },
    {
      "cell_type": "code",
      "source": [
        "employee_details[\"Age\"] = 50\n",
        "print(employee_details)"
      ],
      "metadata": {
        "colab": {
          "base_uri": "https://localhost:8080/"
        },
        "id": "XSwGyWM0WKSd",
        "outputId": "052c20f2-5fa2-45d7-ae04-42afc00da5e8"
      },
      "execution_count": null,
      "outputs": [
        {
          "output_type": "stream",
          "name": "stdout",
          "text": [
            "{'Name': 'Suresh', 'Age': 50, 'Department': 'IT', 'email': 'suresh@abc.com'}\n"
          ]
        }
      ]
    },
    {
      "cell_type": "code",
      "source": [
        "print(len(employee_details))"
      ],
      "metadata": {
        "colab": {
          "base_uri": "https://localhost:8080/"
        },
        "id": "P1N-z11XWOtx",
        "outputId": "ece46f71-e17a-489c-f97f-709f394b9e66"
      },
      "execution_count": null,
      "outputs": [
        {
          "output_type": "stream",
          "name": "stdout",
          "text": [
            "4\n"
          ]
        }
      ]
    },
    {
      "cell_type": "code",
      "source": [
        "#To remove an entity from a dictionary\n",
        "employee_details.pop(\"Name\")"
      ],
      "metadata": {
        "colab": {
          "base_uri": "https://localhost:8080/",
          "height": 36
        },
        "id": "T3M0ZH2XWcPi",
        "outputId": "13f496ba-1693-43d1-b93a-0a4b150b5337"
      },
      "execution_count": null,
      "outputs": [
        {
          "output_type": "execute_result",
          "data": {
            "text/plain": [
              "'Suresh'"
            ],
            "application/vnd.google.colaboratory.intrinsic+json": {
              "type": "string"
            }
          },
          "metadata": {},
          "execution_count": 71
        }
      ]
    },
    {
      "cell_type": "code",
      "source": [
        "print(employee_details)"
      ],
      "metadata": {
        "colab": {
          "base_uri": "https://localhost:8080/"
        },
        "id": "4havhurCWgqW",
        "outputId": "5382f134-d4b5-4f62-f25e-576cf5dca893"
      },
      "execution_count": null,
      "outputs": [
        {
          "output_type": "stream",
          "name": "stdout",
          "text": [
            "{'Age': 50, 'Department': 'IT', 'email': 'suresh@abc.com'}\n"
          ]
        }
      ]
    },
    {
      "cell_type": "markdown",
      "source": [
        "* update() function in dictionary"
      ],
      "metadata": {
        "id": "mbFmo6EiZay4"
      }
    },
    {
      "cell_type": "code",
      "source": [
        "employee_details_1 = {\"Name\" : \"Suresh\" , \"Age\" : 33 , \"Department\" : \"IT\"}\n",
        "employee_details_2 = {\"Name\" : \"Sanjay\" , \"Age\" : 22 , \"Department\" : \"HR\"}\n",
        "\n",
        "print(\"Employee Details 1 =>\" , employee_details_1)\n",
        "print(\"Employee Details 2 =>\" , employee_details_2)"
      ],
      "metadata": {
        "colab": {
          "base_uri": "https://localhost:8080/"
        },
        "id": "CV9vSxYjWv3x",
        "outputId": "a5bb9104-f0ca-4082-dba0-eade0c938012"
      },
      "execution_count": null,
      "outputs": [
        {
          "output_type": "stream",
          "name": "stdout",
          "text": [
            "Employee Details 1 => {'Name': 'Suresh', 'Age': 33, 'Department': 'IT'}\n",
            "Employee Details 2 => {'Name': 'Sanjay', 'Age': 22, 'Department': 'HR'}\n"
          ]
        }
      ]
    },
    {
      "cell_type": "code",
      "source": [
        "employee_details_1.update(employee_details_2)\n",
        "print(\"Employee Details 1 =>\" , employee_details_1)"
      ],
      "metadata": {
        "colab": {
          "base_uri": "https://localhost:8080/"
        },
        "id": "A5DUfJjFYwzo",
        "outputId": "d18921a0-7238-4668-f6d7-d88d726af5ee"
      },
      "execution_count": null,
      "outputs": [
        {
          "output_type": "stream",
          "name": "stdout",
          "text": [
            "Employee Details 1 => {'Name': 'Sanjay', 'Age': 22, 'Department': 'HR'}\n"
          ]
        }
      ]
    },
    {
      "cell_type": "code",
      "source": [
        "employee_details_1 = {\"Name\" : \"Suresh\" , \"Age\" : 33 , \"Department\" : \"IT\"}\n",
        "print(employee_details_1)\n",
        "employee_details_1_moreinfo = {\"email\" : \"suresh@abc.com\" , \"salary\" : 600000}\n",
        "print(employee_details_1_moreinfo)"
      ],
      "metadata": {
        "colab": {
          "base_uri": "https://localhost:8080/"
        },
        "id": "JOTlmn3NX_XS",
        "outputId": "7e61a39f-ce5e-4a40-e4ed-1b300ba0dbbf"
      },
      "execution_count": null,
      "outputs": [
        {
          "output_type": "stream",
          "name": "stdout",
          "text": [
            "{'Name': 'Suresh', 'Age': 33, 'Department': 'IT'}\n",
            "{'email': 'suresh@abc.com', 'salary': 600000}\n"
          ]
        }
      ]
    },
    {
      "cell_type": "code",
      "source": [
        "employee_details_1.update(employee_details_1_moreinfo)\n",
        "print(employee_details_1)"
      ],
      "metadata": {
        "colab": {
          "base_uri": "https://localhost:8080/"
        },
        "id": "6-dx5izhYGLE",
        "outputId": "4fb021f9-eb02-4f81-c5a7-1c8ab5ef4012"
      },
      "execution_count": null,
      "outputs": [
        {
          "output_type": "stream",
          "name": "stdout",
          "text": [
            "{'Name': 'Suresh', 'Age': 33, 'Department': 'IT', 'email': 'suresh@abc.com', 'salary': 600000}\n"
          ]
        }
      ]
    },
    {
      "cell_type": "markdown",
      "source": [
        "* Set"
      ],
      "metadata": {
        "id": "GQvZ1l1eZfTE"
      }
    },
    {
      "cell_type": "code",
      "source": [
        "x = [6,9,3,7,5,3,6,2,1,9]\n",
        "print(x , type(x))"
      ],
      "metadata": {
        "colab": {
          "base_uri": "https://localhost:8080/"
        },
        "id": "UmY-_1ZJYvWF",
        "outputId": "2d41c0a4-6e9a-4614-ca8c-1f0b3b6b54ec"
      },
      "execution_count": null,
      "outputs": [
        {
          "output_type": "stream",
          "name": "stdout",
          "text": [
            "[6, 9, 3, 7, 5, 3, 6, 2, 1, 9] <class 'list'>\n"
          ]
        }
      ]
    },
    {
      "cell_type": "code",
      "source": [
        "z = {6,9,3,7,5,3,6,2,1,9}\n",
        "print(z , type(z))"
      ],
      "metadata": {
        "colab": {
          "base_uri": "https://localhost:8080/"
        },
        "id": "PksZGBbwZmfy",
        "outputId": "d29ed6eb-9375-4f4f-a7f7-bc938564141a"
      },
      "execution_count": null,
      "outputs": [
        {
          "output_type": "stream",
          "name": "stdout",
          "text": [
            "{1, 2, 3, 5, 6, 7, 9} <class 'set'>\n"
          ]
        }
      ]
    },
    {
      "cell_type": "code",
      "source": [
        "#add() -> to add a new member into a set\n",
        "z.add(6)\n",
        "print(z)"
      ],
      "metadata": {
        "colab": {
          "base_uri": "https://localhost:8080/"
        },
        "id": "ZmAdneSoZr9B",
        "outputId": "1bae2923-c2d9-4046-93ee-15d657b59575"
      },
      "execution_count": null,
      "outputs": [
        {
          "output_type": "stream",
          "name": "stdout",
          "text": [
            "{1, 2, 3, 5, 6, 7, 9}\n"
          ]
        }
      ]
    },
    {
      "cell_type": "code",
      "source": [
        "z.add(0.7)\n",
        "print(z)"
      ],
      "metadata": {
        "colab": {
          "base_uri": "https://localhost:8080/"
        },
        "id": "zefX5zoUaYb1",
        "outputId": "08ddbff7-46d6-42c8-9dd5-5ab128454042"
      },
      "execution_count": null,
      "outputs": [
        {
          "output_type": "stream",
          "name": "stdout",
          "text": [
            "{0.7, 1, 2, 3, 5, 6, 7, 9}\n"
          ]
        }
      ]
    },
    {
      "cell_type": "code",
      "source": [
        "z.add(605)\n",
        "print(z)"
      ],
      "metadata": {
        "colab": {
          "base_uri": "https://localhost:8080/"
        },
        "id": "9kgrPSWMabPd",
        "outputId": "02498968-86ab-4ea7-c047-4a46b9ebc83d"
      },
      "execution_count": null,
      "outputs": [
        {
          "output_type": "stream",
          "name": "stdout",
          "text": [
            "{0.7, 1, 2, 3, 5, 6, 7, 9, 605}\n"
          ]
        }
      ]
    },
    {
      "cell_type": "code",
      "source": [
        "z.remove(5)\n",
        "print(z)"
      ],
      "metadata": {
        "colab": {
          "base_uri": "https://localhost:8080/"
        },
        "id": "KpzNJ2d7af-K",
        "outputId": "06ed2398-7245-4cf6-cf5c-6fcfad723071"
      },
      "execution_count": null,
      "outputs": [
        {
          "output_type": "stream",
          "name": "stdout",
          "text": [
            "{0.7, 1, 2, 3, 6, 7, 9, 605}\n"
          ]
        }
      ]
    },
    {
      "cell_type": "code",
      "source": [
        "print(z[4])"
      ],
      "metadata": {
        "colab": {
          "base_uri": "https://localhost:8080/",
          "height": 149
        },
        "id": "AFL5veoEamUm",
        "outputId": "085670bc-06b5-4ed3-eea5-5814a77d385e"
      },
      "execution_count": null,
      "outputs": [
        {
          "output_type": "error",
          "ename": "TypeError",
          "evalue": "'set' object is not subscriptable",
          "traceback": [
            "\u001b[0;31m---------------------------------------------------------------------------\u001b[0m",
            "\u001b[0;31mTypeError\u001b[0m                                 Traceback (most recent call last)",
            "\u001b[0;32m<ipython-input-93-a86b4845ea65>\u001b[0m in \u001b[0;36m<cell line: 1>\u001b[0;34m()\u001b[0m\n\u001b[0;32m----> 1\u001b[0;31m \u001b[0mprint\u001b[0m\u001b[0;34m(\u001b[0m\u001b[0mz\u001b[0m\u001b[0;34m[\u001b[0m\u001b[0;36m4\u001b[0m\u001b[0;34m]\u001b[0m\u001b[0;34m)\u001b[0m\u001b[0;34m\u001b[0m\u001b[0;34m\u001b[0m\u001b[0m\n\u001b[0m",
            "\u001b[0;31mTypeError\u001b[0m: 'set' object is not subscriptable"
          ]
        }
      ]
    },
    {
      "cell_type": "code",
      "source": [
        "#Typecasting - to convert data types\n",
        "print(list(z))"
      ],
      "metadata": {
        "colab": {
          "base_uri": "https://localhost:8080/"
        },
        "id": "QzIHrq7vapSM",
        "outputId": "6efa1f5e-1632-4840-83ae-32ce4da9584a"
      },
      "execution_count": null,
      "outputs": [
        {
          "output_type": "stream",
          "name": "stdout",
          "text": [
            "[0.7, 1, 2, 3, 6, 7, 9, 605]\n"
          ]
        }
      ]
    },
    {
      "cell_type": "code",
      "source": [
        "print(list(z)[4])"
      ],
      "metadata": {
        "colab": {
          "base_uri": "https://localhost:8080/"
        },
        "id": "npz8DznAauJB",
        "outputId": "9e826a11-639b-4454-a00b-2d2c38d9f83d"
      },
      "execution_count": null,
      "outputs": [
        {
          "output_type": "stream",
          "name": "stdout",
          "text": [
            "6\n"
          ]
        }
      ]
    },
    {
      "cell_type": "markdown",
      "source": [
        "*****\n",
        "*****\n",
        "**Operands or Operators**\n",
        "  * Arthmetic operators\n",
        "  * Assignment Operators\n",
        "  * Comparison Operators\n",
        "  * logical operators\n",
        "  * membership operators\n",
        "  * Identity operators\n",
        "  * Bitwise Operator"
      ],
      "metadata": {
        "id": "qVq5tM5Ob09I"
      }
    },
    {
      "cell_type": "code",
      "source": [
        "#Arthmetic operators\n",
        "\n",
        "a = 17\n",
        "b = 5\n",
        "\n",
        "print(a + b)\n",
        "print(a - b)\n",
        "print(a * b)\n",
        "print(a / b)\n",
        "print(a ** b)  #Exponentiation\n",
        "print(a % b)   #Modulo\n",
        "print(a // b)  #floor division"
      ],
      "metadata": {
        "colab": {
          "base_uri": "https://localhost:8080/"
        },
        "id": "PvFKm5faa6lH",
        "outputId": "25138781-90ef-4d65-8777-f07f077250bb"
      },
      "execution_count": null,
      "outputs": [
        {
          "output_type": "stream",
          "name": "stdout",
          "text": [
            "22\n",
            "12\n",
            "85\n",
            "3.4\n",
            "1419857\n",
            "2\n",
            "3\n"
          ]
        }
      ]
    },
    {
      "cell_type": "code",
      "source": [
        "#Assignment Operator\n",
        "x = 10"
      ],
      "metadata": {
        "id": "xS3EhRf9clRV"
      },
      "execution_count": null,
      "outputs": []
    },
    {
      "cell_type": "code",
      "source": [
        "x += 4\n",
        "print(x)"
      ],
      "metadata": {
        "colab": {
          "base_uri": "https://localhost:8080/"
        },
        "id": "GyOz1rZpdBCl",
        "outputId": "ecd09e10-3f2b-4319-e38d-82ef7a7c96d9"
      },
      "execution_count": null,
      "outputs": [
        {
          "output_type": "stream",
          "name": "stdout",
          "text": [
            "14\n"
          ]
        }
      ]
    },
    {
      "cell_type": "code",
      "source": [
        "x -= 2\n",
        "print(x)"
      ],
      "metadata": {
        "colab": {
          "base_uri": "https://localhost:8080/"
        },
        "id": "hSvQgZ_kdHLe",
        "outputId": "a753485b-93eb-4b6b-ef3e-b53788826519"
      },
      "execution_count": null,
      "outputs": [
        {
          "output_type": "stream",
          "name": "stdout",
          "text": [
            "12\n"
          ]
        }
      ]
    },
    {
      "cell_type": "code",
      "source": [
        "x *= 3\n",
        "print(x)"
      ],
      "metadata": {
        "colab": {
          "base_uri": "https://localhost:8080/"
        },
        "id": "Omm9Wj52dLjF",
        "outputId": "a0bc3542-6e93-4455-aed5-404fe051bb15"
      },
      "execution_count": null,
      "outputs": [
        {
          "output_type": "stream",
          "name": "stdout",
          "text": [
            "36\n"
          ]
        }
      ]
    },
    {
      "cell_type": "code",
      "source": [
        "x /= 2\n",
        "print(x)"
      ],
      "metadata": {
        "colab": {
          "base_uri": "https://localhost:8080/"
        },
        "id": "3eduwAP-dO5q",
        "outputId": "592e6594-2d2a-4d87-b5c9-f26b4a31a1cd"
      },
      "execution_count": null,
      "outputs": [
        {
          "output_type": "stream",
          "name": "stdout",
          "text": [
            "18.0\n"
          ]
        }
      ]
    },
    {
      "cell_type": "code",
      "source": [
        "x //= 5\n",
        "print(x)"
      ],
      "metadata": {
        "colab": {
          "base_uri": "https://localhost:8080/"
        },
        "id": "IbL3TuUFdUdb",
        "outputId": "ff309aed-6bd0-4b25-e222-c8e49ef3a8ea"
      },
      "execution_count": null,
      "outputs": [
        {
          "output_type": "stream",
          "name": "stdout",
          "text": [
            "3.0\n"
          ]
        }
      ]
    },
    {
      "cell_type": "code",
      "source": [
        "x **= 4\n",
        "print(x)"
      ],
      "metadata": {
        "colab": {
          "base_uri": "https://localhost:8080/"
        },
        "id": "5MvqU7xddZ6k",
        "outputId": "e9414ac6-2ce7-4376-b621-5b035ee15de1"
      },
      "execution_count": null,
      "outputs": [
        {
          "output_type": "stream",
          "name": "stdout",
          "text": [
            "81.0\n"
          ]
        }
      ]
    },
    {
      "cell_type": "code",
      "source": [
        "x %= 5\n",
        "print(x)"
      ],
      "metadata": {
        "colab": {
          "base_uri": "https://localhost:8080/"
        },
        "id": "gcrFnBZsdeKS",
        "outputId": "2d408e40-f2e6-415f-ef61-1bd41dadfb8e"
      },
      "execution_count": null,
      "outputs": [
        {
          "output_type": "stream",
          "name": "stdout",
          "text": [
            "1.0\n"
          ]
        }
      ]
    },
    {
      "cell_type": "code",
      "source": [
        "#Comparasion Operator\n",
        "z = 21\n",
        "\n",
        "print(z == 21)\n",
        "print(z != 21)\n",
        "print(z != 15)\n",
        "print(z > 15)\n",
        "print(z < 15)\n",
        "print(z >= 15)\n",
        "print(z <= 15)"
      ],
      "metadata": {
        "colab": {
          "base_uri": "https://localhost:8080/"
        },
        "id": "Pk88wZBXdhUw",
        "outputId": "c4fec86e-b43a-4e80-b553-aa5803d28bcd"
      },
      "execution_count": null,
      "outputs": [
        {
          "output_type": "stream",
          "name": "stdout",
          "text": [
            "True\n",
            "False\n",
            "True\n",
            "True\n",
            "False\n",
            "True\n",
            "False\n"
          ]
        }
      ]
    },
    {
      "cell_type": "code",
      "source": [
        "#Logical operator\n",
        "\n",
        "print(True or True)\n",
        "print(True or False)\n",
        "print(False or True)\n",
        "print(False or False)"
      ],
      "metadata": {
        "colab": {
          "base_uri": "https://localhost:8080/"
        },
        "id": "sZzkIFQVeJ8r",
        "outputId": "063dceb2-dcd3-4375-bf06-c83468e73e46"
      },
      "execution_count": null,
      "outputs": [
        {
          "output_type": "stream",
          "name": "stdout",
          "text": [
            "True\n",
            "True\n",
            "True\n",
            "False\n"
          ]
        }
      ]
    },
    {
      "cell_type": "code",
      "source": [
        "weight = 55.6\n",
        "\n",
        "print(weight > 40 or weight < 60)\n",
        "\n",
        "print(weight > 40 or weight < 50)\n",
        "\n",
        "print(weight > 56 or weight < 60)\n",
        "\n",
        "print(weight > 56 or weight < 50)"
      ],
      "metadata": {
        "colab": {
          "base_uri": "https://localhost:8080/"
        },
        "id": "4R41Qk8OfEiX",
        "outputId": "3fb6aa86-1ef9-4b96-949c-ae970451e20c"
      },
      "execution_count": null,
      "outputs": [
        {
          "output_type": "stream",
          "name": "stdout",
          "text": [
            "True\n",
            "True\n",
            "True\n",
            "False\n"
          ]
        }
      ]
    },
    {
      "cell_type": "code",
      "source": [
        "print(True and True)\n",
        "print(True and False)\n",
        "print(False and True)\n",
        "print(False and False)"
      ],
      "metadata": {
        "colab": {
          "base_uri": "https://localhost:8080/"
        },
        "id": "YP2mJCh9faIl",
        "outputId": "bad0318d-9504-4883-949a-d4f21ee03c55"
      },
      "execution_count": null,
      "outputs": [
        {
          "output_type": "stream",
          "name": "stdout",
          "text": [
            "True\n",
            "False\n",
            "False\n",
            "False\n"
          ]
        }
      ]
    },
    {
      "cell_type": "code",
      "source": [
        "weight = 55.6\n",
        "\n",
        "print(weight > 40 and weight < 60)\n",
        "\n",
        "print(weight > 40 and weight < 50)\n",
        "\n",
        "print(weight > 56 and weight < 60)\n",
        "\n",
        "print(weight > 56 and weight < 50)"
      ],
      "metadata": {
        "colab": {
          "base_uri": "https://localhost:8080/"
        },
        "id": "Q19E-tZ2f4B7",
        "outputId": "f80ab961-1729-446a-b558-f9a57547c238"
      },
      "execution_count": null,
      "outputs": [
        {
          "output_type": "stream",
          "name": "stdout",
          "text": [
            "True\n",
            "False\n",
            "False\n",
            "False\n"
          ]
        }
      ]
    },
    {
      "cell_type": "code",
      "source": [
        "weight = 55.6\n",
        "\n",
        "print(not(weight > 40 and weight < 60))\n",
        "\n",
        "print(not(weight > 40 and weight < 50))\n",
        "\n",
        "print(not(weight > 56 and weight < 60))\n",
        "\n",
        "print(not(weight > 56 and weight < 50))"
      ],
      "metadata": {
        "colab": {
          "base_uri": "https://localhost:8080/"
        },
        "id": "dkerJCHdf8_C",
        "outputId": "b1df66c0-ddad-48b9-d8e3-fdd59ab49df5"
      },
      "execution_count": null,
      "outputs": [
        {
          "output_type": "stream",
          "name": "stdout",
          "text": [
            "False\n",
            "True\n",
            "True\n",
            "True\n"
          ]
        }
      ]
    },
    {
      "cell_type": "code",
      "source": [
        "#Membership Operators\n",
        "\n",
        "text = \"Python Programming is fun\"\n",
        "print(\"Python\" in text)"
      ],
      "metadata": {
        "colab": {
          "base_uri": "https://localhost:8080/"
        },
        "id": "pgdCchLQgEy1",
        "outputId": "8364ae3c-daf1-43b9-bc4d-14532a8bce30"
      },
      "execution_count": null,
      "outputs": [
        {
          "output_type": "stream",
          "name": "stdout",
          "text": [
            "True\n"
          ]
        }
      ]
    },
    {
      "cell_type": "code",
      "source": [
        "print(\"Java\" in text)"
      ],
      "metadata": {
        "colab": {
          "base_uri": "https://localhost:8080/"
        },
        "id": "D1AKWwLhg7MR",
        "outputId": "30d5c1c2-c117-4ef3-e633-7cef6fce1601"
      },
      "execution_count": null,
      "outputs": [
        {
          "output_type": "stream",
          "name": "stdout",
          "text": [
            "False\n"
          ]
        }
      ]
    },
    {
      "cell_type": "code",
      "source": [
        "print(\"Python\" not in text)"
      ],
      "metadata": {
        "colab": {
          "base_uri": "https://localhost:8080/"
        },
        "id": "5SLAgTjLg9Vh",
        "outputId": "1f328042-8b36-4242-fb92-332328a88695"
      },
      "execution_count": null,
      "outputs": [
        {
          "output_type": "stream",
          "name": "stdout",
          "text": [
            "False\n"
          ]
        }
      ]
    },
    {
      "cell_type": "code",
      "source": [
        "print(\"Java\" not in text)"
      ],
      "metadata": {
        "colab": {
          "base_uri": "https://localhost:8080/"
        },
        "id": "OHfILBaDg_7_",
        "outputId": "1cbb3bfe-8e63-4bca-cfc0-23002964b843"
      },
      "execution_count": null,
      "outputs": [
        {
          "output_type": "stream",
          "name": "stdout",
          "text": [
            "True\n"
          ]
        }
      ]
    },
    {
      "cell_type": "code",
      "source": [
        "x = [5,4,3,9,8,7]\n",
        "\n",
        "print(9 in x)\n",
        "print(19 in x)"
      ],
      "metadata": {
        "colab": {
          "base_uri": "https://localhost:8080/"
        },
        "id": "MUXoNiH7hCa9",
        "outputId": "b22952cc-9f09-4521-8efd-27d150ab4cb0"
      },
      "execution_count": null,
      "outputs": [
        {
          "output_type": "stream",
          "name": "stdout",
          "text": [
            "True\n",
            "False\n"
          ]
        }
      ]
    },
    {
      "cell_type": "code",
      "source": [
        "#Identity operators - True if both objects are same object in memory\n",
        "# is , is not\n",
        "\n",
        "x = [4,5,6]\n",
        "y = [4,5,6]\n",
        "\n",
        "print(x == y)\n",
        "print(x is y)\n",
        "print(y is x)"
      ],
      "metadata": {
        "colab": {
          "base_uri": "https://localhost:8080/"
        },
        "id": "67g6-CBohITH",
        "outputId": "3bde9110-f083-496a-8ca4-f25b83c7c20a"
      },
      "execution_count": null,
      "outputs": [
        {
          "output_type": "stream",
          "name": "stdout",
          "text": [
            "True\n",
            "False\n",
            "False\n"
          ]
        }
      ]
    },
    {
      "cell_type": "code",
      "source": [
        "a = [4,5,6]\n",
        "b = a\n",
        "\n",
        "print(a == b)\n",
        "print(a is b)\n",
        "print(a is not b)"
      ],
      "metadata": {
        "colab": {
          "base_uri": "https://localhost:8080/"
        },
        "id": "lUwNG_g8hcLR",
        "outputId": "b04133ed-53b4-49c9-a2b8-1e51153037ee"
      },
      "execution_count": null,
      "outputs": [
        {
          "output_type": "stream",
          "name": "stdout",
          "text": [
            "True\n",
            "True\n",
            "False\n"
          ]
        }
      ]
    },
    {
      "cell_type": "code",
      "source": [],
      "metadata": {
        "id": "ESEDHCJDhq_w"
      },
      "execution_count": null,
      "outputs": []
    }
  ]
}